{
 "cells": [
  {
   "cell_type": "code",
   "execution_count": null,
   "id": "287a70f9-6744-4de4-adcb-9b142d87e52a",
   "metadata": {},
   "outputs": [],
   "source": [
    "%load_ext jupyter_black"
   ]
  },
  {
   "cell_type": "code",
   "execution_count": null,
   "id": "6ed9c605-cf75-450f-9e13-1b00b277aa36",
   "metadata": {},
   "outputs": [],
   "source": [
    "from datetime import datetime, timedelta\n",
    "import glob\n",
    "import os\n",
    "import re\n",
    "\n",
    "import plotly.express as px\n",
    "import plotly.graph_objects as go\n",
    "import pandas as pd\n",
    "import numpy as np"
   ]
  },
  {
   "cell_type": "code",
   "execution_count": null,
   "id": "fe086eca-23ad-4543-8bd4-5405bf06b560",
   "metadata": {},
   "outputs": [],
   "source": [
    "print(\"this is a test\")"
   ]
  },
  {
   "cell_type": "code",
   "execution_count": null,
   "id": "c499297a-a105-4664-89be-13f611f3111b",
   "metadata": {},
   "outputs": [],
   "source": [
    "df = pd.DataFrame()\n",
    "\n",
    "path_to_json = \"../../runs/\"\n",
    "\n",
    "json_pattern = os.path.join(path_to_json, \"*.json\")\n",
    "file_list = glob.glob(json_pattern)\n",
    "\n",
    "for file in file_list:\n",
    "    data = pd.read_json(file)\n",
    "    df = pd.concat([df, data], ignore_index=True)"
   ]
  },
  {
   "cell_type": "code",
   "execution_count": null,
   "id": "b42927ff-eb51-4cb3-a8c3-c58d47d9f291",
   "metadata": {},
   "outputs": [],
   "source": [
    "df[\"departure_date_dt\"] = pd.to_datetime(\n",
    "    df[\"departure_date\"].apply(lambda x: f\"{x} 2024\")\n",
    ")\n",
    "df[\"return_date_dt\"] = pd.to_datetime(df[\"return_date\"].apply(lambda x: f\"{x} 2024\"))\n",
    "\n",
    "df[\"departure_dt\"] = pd.to_datetime(\n",
    "    df.apply(lambda row: f\"{row['departure']} {row['departure_date']} 2024\", axis=1)\n",
    ")\n",
    "df[\"flight_duration_dt\"] = pd.to_timedelta(df[\"duration\"])\n",
    "df[\"landing_origin_dt\"] = df[\"departure_dt\"] + df[\"flight_duration_dt\"]"
   ]
  },
  {
   "cell_type": "code",
   "execution_count": null,
   "id": "79c2f0b4-0b02-43dc-abb8-76157a8e89ee",
   "metadata": {},
   "outputs": [],
   "source": [
    "df[\"trip_duration\"] = df[\"return_date_dt\"] - df[\"departure_date_dt\"]\n",
    "df[\"trip_duration_days\"] = df[\"trip_duration\"].dt.days"
   ]
  },
  {
   "cell_type": "code",
   "execution_count": null,
   "id": "dd37dda7-4ebf-49ad-842e-87b190a6daf8",
   "metadata": {},
   "outputs": [],
   "source": [
    "df[\"connection\"] = df.apply(\n",
    "    lambda row: f\"{row['origin_airport_code']} - {row['destination_airport_code']}\",\n",
    "    axis=1,\n",
    ")"
   ]
  },
  {
   "cell_type": "code",
   "execution_count": null,
   "id": "d154c475-823e-4bff-a912-76ab57780a0d",
   "metadata": {},
   "outputs": [],
   "source": [
    "df[\"stops_str\"] = df[\"stops\"].apply(lambda x: x if isinstance(x, str) else \"No\")"
   ]
  },
  {
   "cell_type": "code",
   "execution_count": null,
   "id": "9b42748f-afea-4f81-bff8-42bc88bb38d4",
   "metadata": {},
   "outputs": [],
   "source": [
    "def parse_duration(duration):\n",
    "    # Extract hours and minutes using regex\n",
    "    if type(duration) != str:\n",
    "        return None\n",
    "    match = re.match(r\"(?:(\\d+) hr)?\\s*(?:(\\d+) min)?\\s*(\\w{3})$\", duration)\n",
    "    if match:\n",
    "        hours = int(match.group(1)) if match.group(1) else 0\n",
    "        minutes = int(match.group(2)) if match.group(2) else 0\n",
    "        return timedelta(hours=hours, minutes=minutes)\n",
    "    return None\n",
    "\n",
    "\n",
    "def extract_airport_code(duration):\n",
    "    # Extract airport code using regex\n",
    "    if type(duration) != str:\n",
    "        return None\n",
    "    match = re.match(r\"(?:(\\d+) hr)?\\s*(?:(\\d+) min)?\\s*(\\w{3})$\", duration)\n",
    "    if match:\n",
    "        return match.group(3)\n",
    "    return None\n",
    "\n",
    "\n",
    "# TODO: This does not handle a case where there are multiple stops on the way.\n",
    "# The data does not provide information on each of the layovers in that case.\n",
    "df[\"layover_duration\"] = df[\"stops\"].apply(lambda x: parse_duration(x))\n",
    "df[\"layover_airport\"] = df[\"stops\"].apply(lambda x: extract_airport_code(x))"
   ]
  },
  {
   "cell_type": "code",
   "execution_count": null,
   "id": "a02c5519-5d51-40da-8061-8eec3e09971c",
   "metadata": {},
   "outputs": [],
   "source": [
    "def count_stops(entry):\n",
    "    if pd.isna(entry):\n",
    "        return 0\n",
    "    # Find all 3-letter airport codes\n",
    "    codes = re.findall(r\"\\b[A-Z]{3}\\b\", entry)\n",
    "    return len(codes)\n",
    "\n",
    "\n",
    "df[\"number_of_stops\"] = df[\"stops\"].apply(count_stops)"
   ]
  },
  {
   "cell_type": "code",
   "execution_count": null,
   "id": "1b03e464-6e80-47aa-bd2c-2785dfb3a1bd",
   "metadata": {},
   "outputs": [],
   "source": [
    "def parse_landing_time(entry):\n",
    "    # Use regex to find the time in the format hh:mm AM/PM\n",
    "    match = re.match(r\"(\\d{1,2}:\\d{2} [APM]{2})\", entry)\n",
    "    if match:\n",
    "        time_str = match.group(1)\n",
    "        return datetime.strptime(time_str, \"%I:%M %p\").time()\n",
    "    return None\n",
    "\n",
    "\n",
    "df[\"landing_dt\"] = df[\"landing\"].apply(parse_landing_time)"
   ]
  },
  {
   "cell_type": "code",
   "execution_count": null,
   "id": "4700a3c4-60be-4d8c-bf94-f6d948149ee9",
   "metadata": {},
   "outputs": [],
   "source": [
    "df[\"flight_duration_dt\"] = pd.to_timedelta(df[\"duration\"])\n",
    "df[\"flight_duration_hours\"] = (df[\"flight_duration_dt\"].dt.total_seconds()) / 3600"
   ]
  },
  {
   "cell_type": "code",
   "execution_count": null,
   "id": "5c26f61d-1dd7-4a95-9fb8-28f5bd108db5",
   "metadata": {},
   "outputs": [],
   "source": [
    "# For some searches the median duration will depend on the departure date\n",
    "# This makes the visualisation properly center around the departure date\n",
    "duration_mapping = (\n",
    "    df[[\"departure_date\", \"trip_duration_days\"]]\n",
    "    .groupby(\"departure_date\")\n",
    "    .median()\n",
    "    .to_dict()[\"trip_duration_days\"]\n",
    ")"
   ]
  },
  {
   "cell_type": "code",
   "execution_count": null,
   "id": "96b36feb-857d-41f8-be78-990a2e5a75e4",
   "metadata": {},
   "outputs": [],
   "source": [
    "# Add date jitter for better visualisation\n",
    "\n",
    "unique_trip_duration_days = df[\"trip_duration_days\"].unique()\n",
    "trip_duration_median = np.median(unique_trip_duration_days)\n",
    "df[\"departure_date_with_jitter\"] = df.apply(\n",
    "    lambda row: row[\"departure_date_dt\"]\n",
    "    + timedelta(\n",
    "        hours=2 * (row[\"trip_duration_days\"] - duration_mapping[row[\"departure_date\"]])\n",
    "    ),\n",
    "    axis=1,\n",
    ")"
   ]
  },
  {
   "cell_type": "code",
   "execution_count": null,
   "id": "407274bf-8f0a-4050-b98b-4bbd51221b96",
   "metadata": {},
   "outputs": [],
   "source": [
    "px.scatter(\n",
    "    df,\n",
    "    x=\"departure_date_with_jitter\",\n",
    "    y=\"price_unit\",\n",
    "    color=\"direct_flight\",\n",
    "    opacity=0.5,\n",
    ")"
   ]
  },
  {
   "cell_type": "code",
   "execution_count": null,
   "id": "a02da3a8-05a8-4350-945f-0dc5002516c6",
   "metadata": {},
   "outputs": [],
   "source": [
    "# Filter with the agreed rules\n",
    "\n",
    "# - The duration for non-direct flights should be less than q75 of analysed flights\n",
    "# - The cost for the flight should be less than q75\n",
    "# - Number of stops should be less than q75\n",
    "# - Lower layover bound - 1 hour\n",
    "# - Upper layover bound is probably included in the total-duration filter\n",
    "# - Change of airport, as a rule of thumb, is not acceptable\n",
    "# - arrival time before 8pm local time\n",
    "# - airlines: no Flair\n",
    "\n",
    "DURATION_QUANTILE_THRESHOLD = 0.66\n",
    "COST_QUANTILE_THRESHOLD = 0.75\n",
    "STOPS_QUANTILE_THRESHOLD = 0.75\n",
    "MIN_LAYOVER_DURATION = timedelta(hours=1)\n",
    "LANDING_TIME_MIN = datetime.strptime(\"04:00 AM\", \"%I:%M %p\").time()\n",
    "LANDING_TIME_MAX = datetime.strptime(\"09:00 PM\", \"%I:%M %p\").time()\n",
    "\n",
    "df_filtered = df.copy()\n",
    "\n",
    "# The duration for non-direct flights should be less than q75 of analysed flights\n",
    "non_direct_duration_q75 = df_filtered[~df_filtered[\"direct_flight\"]][\n",
    "    \"flight_duration_hours\"\n",
    "].quantile(DURATION_QUANTILE_THRESHOLD)\n",
    "df_filtered = df_filtered[\n",
    "    df_filtered[\"direct_flight\"]\n",
    "    | (df_filtered[\"flight_duration_hours\"] <= non_direct_duration_q75)\n",
    "]\n",
    "\n",
    "# The cost for the flight should be less than q75\n",
    "cost_q75 = df_filtered[\"price_unit\"].quantile(COST_QUANTILE_THRESHOLD)\n",
    "df_filtered = df_filtered[df_filtered[\"price_unit\"] <= cost_q75]\n",
    "\n",
    "# Number of stops should be less than q75\n",
    "stops_q75 = df_filtered[\"number_of_stops\"].quantile(STOPS_QUANTILE_THRESHOLD)\n",
    "df_filtered = df_filtered[df_filtered[\"number_of_stops\"] <= stops_q75]\n",
    "\n",
    "# Lower layover bound - 1 hour\n",
    "df_filtered = df_filtered[\n",
    "    df_filtered[\"layover_duration\"].isna()\n",
    "    | (df_filtered[\"layover_duration\"] >= MIN_LAYOVER_DURATION)\n",
    "]\n",
    "\n",
    "# Change of airport, as a rule of thumb, is not acceptable\n",
    "df_filtered = df_filtered[df_filtered[\"stops\"] != \"Change of airport\"]\n",
    "\n",
    "# arrival time during the day\n",
    "df_filtered = df_filtered[\n",
    "    (LANDING_TIME_MIN <= df_filtered[\"landing_dt\"])\n",
    "    & (df_filtered[\"landing_dt\"] <= LANDING_TIME_MAX)\n",
    "]"
   ]
  },
  {
   "cell_type": "code",
   "execution_count": null,
   "id": "f7236456-a959-41c4-8a75-cd5a2cea9665",
   "metadata": {},
   "outputs": [],
   "source": [
    "px.violin(df_filtered, x=\"flight_duration_hours\", box=True)"
   ]
  },
  {
   "cell_type": "code",
   "execution_count": null,
   "id": "7b994d47-cb96-4518-a213-c13fcf045b75",
   "metadata": {},
   "outputs": [],
   "source": [
    "px.scatter(\n",
    "    df_filtered,\n",
    "    y=\"price_unit\",\n",
    "    x=\"flight_duration_hours\",\n",
    "    color=\"direct_flight\",\n",
    "    marginal_y=\"violin\",\n",
    "    marginal_x=\"box\",\n",
    ")"
   ]
  },
  {
   "cell_type": "code",
   "execution_count": null,
   "id": "ac201f84-90b7-432a-ad98-1d41a07acc3f",
   "metadata": {},
   "outputs": [],
   "source": [
    "df_filtered.iloc[1]"
   ]
  },
  {
   "cell_type": "code",
   "execution_count": null,
   "id": "c1763191-2333-4a47-8e7f-cdacaf2a2894",
   "metadata": {},
   "outputs": [],
   "source": [
    "fig = px.scatter(\n",
    "    df_filtered,\n",
    "    x=\"departure_date_with_jitter\",\n",
    "    y=\"price_unit\",\n",
    "    color=\"direct_flight\",\n",
    "    opacity=0.5,\n",
    "    custom_data=[\n",
    "        \"connection\",\n",
    "        \"departure_dt\",\n",
    "        \"landing\",\n",
    "        \"duration\",\n",
    "        \"stops_str\",\n",
    "        \"price_currency\",\n",
    "        \"price_unit\",\n",
    "    ],\n",
    ")\n",
    "\n",
    "hovertemplate = \"\"\"\n",
    "<b>%{customdata[0]}</b><br>\n",
    "Departure: %{customdata[1]}<br>\n",
    "Landing: %{customdata[2]}<br>\n",
    "Duration: %{customdata[3]}<br>\n",
    "Stops: %{customdata[4]}<br>\n",
    "Price: %{customdata[5]} %{customdata[6]}\n",
    "\"\"\"\n",
    "\n",
    "# TODO: add some visualisation for how good the price/duration is relative to others\n",
    "# e.g. how many % flights are below this duration/prict\n",
    "# or how does the value compare to extremes (min-max)\n",
    "\n",
    "fig.update_traces(hovertemplate=hovertemplate)\n",
    "\n",
    "fig.show()"
   ]
  },
  {
   "cell_type": "code",
   "execution_count": null,
   "id": "86cb46d0-4f6d-41cd-ac10-ba6b20a3e6b5",
   "metadata": {},
   "outputs": [],
   "source": [
    "df_filtered[df_filtered[\"price_unit\"] < 850][\n",
    "    [\n",
    "        \"origin_airport_name\",\n",
    "        \"destination_airport_name\",\n",
    "        \"departure_date\",\n",
    "        \"return_date\",\n",
    "        \"airline\",\n",
    "    ]\n",
    "]"
   ]
  },
  {
   "cell_type": "code",
   "execution_count": null,
   "id": "3f9923d2-92a1-4a91-a7e3-6b90c0d7164c",
   "metadata": {},
   "outputs": [],
   "source": [
    "df_sub = df_filtered  # [df_filtered[\"departure_date_dt\"] == datetime(2024, 11, 20)]\n",
    "line_colors = {True: \"#F44336\", False: \"#2196F3\"}\n",
    "\n",
    "fig = go.Figure()\n",
    "for _, row in df_sub.iterrows():\n",
    "    fig.add_trace(\n",
    "        go.Scatter(\n",
    "            x=[row[\"departure_dt\"], row[\"landing_origin_dt\"]],\n",
    "            y=[row[\"price_unit\"], row[\"price_unit\"]],\n",
    "            line_color=line_colors[row[\"direct_flight\"]],\n",
    "        )\n",
    "    )\n",
    "\n",
    "fig.update_layout(\n",
    "    autosize=True,\n",
    "    height=1000,\n",
    ")\n",
    "\n",
    "fig.show()"
   ]
  },
  {
   "cell_type": "code",
   "execution_count": null,
   "id": "331caeb0-6129-4e44-bb5c-00020e1c0b14",
   "metadata": {},
   "outputs": [],
   "source": []
  }
 ],
 "metadata": {
  "kernelspec": {
   "display_name": "Python 3 (ipykernel)",
   "language": "python",
   "name": "python3"
  },
  "language_info": {
   "codemirror_mode": {
    "name": "ipython",
    "version": 3
   },
   "file_extension": ".py",
   "mimetype": "text/x-python",
   "name": "python",
   "nbconvert_exporter": "python",
   "pygments_lexer": "ipython3"
  }
 },
 "nbformat": 4,
 "nbformat_minor": 5
}

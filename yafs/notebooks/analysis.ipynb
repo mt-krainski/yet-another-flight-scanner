{
 "cells": [
  {
   "cell_type": "code",
   "execution_count": null,
   "id": "6ed9c605-cf75-450f-9e13-1b00b277aa36",
   "metadata": {},
   "outputs": [],
   "source": [
    "from datetime import datetime, timedelta\n",
    "import glob\n",
    "import os\n",
    "\n",
    "import plotly.express as px\n",
    "import plotly.graph_objects as go\n",
    "import pandas as pd\n",
    "import numpy as np"
   ]
  },
  {
   "cell_type": "code",
   "execution_count": null,
   "id": "c499297a-a105-4664-89be-13f611f3111b",
   "metadata": {},
   "outputs": [],
   "source": [
    "df = pd.DataFrame()\n",
    "\n",
    "path_to_json = '../../runs/' \n",
    "\n",
    "json_pattern = os.path.join(path_to_json, '*.json')\n",
    "file_list = glob.glob(json_pattern)\n",
    "\n",
    "for file in file_list:\n",
    "    data = pd.read_json(file)\n",
    "    df = pd.concat([df, data], ignore_index = True)"
   ]
  },
  {
   "cell_type": "code",
   "execution_count": null,
   "id": "b42927ff-eb51-4cb3-a8c3-c58d47d9f291",
   "metadata": {},
   "outputs": [],
   "source": [
    "df['departure_date_dt'] = pd.to_datetime(df['departure_date'].apply(lambda x: f\"{x} 2024\"))\n",
    "df['return_date_dt'] = pd.to_datetime(df['return_date'].apply(lambda x: f\"{x} 2024\"))\n",
    "\n",
    "df['departure_dt'] = pd.to_datetime(df.apply(lambda row: f\"{row['departure']} {row['departure_date']} 2024\", axis=1))\n",
    "df['flight_duration_dt'] =  pd.to_timedelta(df['duration'])\n",
    "df['landing_origin_dt'] = df['departure_dt'] + df['flight_duration_dt']"
   ]
  },
  {
   "cell_type": "code",
   "execution_count": null,
   "id": "79c2f0b4-0b02-43dc-abb8-76157a8e89ee",
   "metadata": {},
   "outputs": [],
   "source": [
    "df['trip_duration'] = df['return_date_dt'] - df['departure_date_dt']\n",
    "df['trip_duration_days'] = df['trip_duration'].dt.days"
   ]
  },
  {
   "cell_type": "code",
   "execution_count": null,
   "id": "4700a3c4-60be-4d8c-bf94-f6d948149ee9",
   "metadata": {},
   "outputs": [],
   "source": [
    "df['flight_duration_dt'] =  pd.to_timedelta(df['duration'])"
   ]
  },
  {
   "cell_type": "code",
   "execution_count": null,
   "id": "96b36feb-857d-41f8-be78-990a2e5a75e4",
   "metadata": {},
   "outputs": [],
   "source": [
    "unique_trip_duration_days = df['trip_duration_days'].unique()\n",
    "trip_duration_median = np.median(unique_trip_duration_days)\n",
    "df['departure_date_with_jitter'] = df.apply(\n",
    "    lambda row: row['departure_date_dt'] + timedelta(hours = 2*(row['trip_duration_days'] - trip_duration_median)), \n",
    "    axis=1\n",
    ")"
   ]
  },
  {
   "cell_type": "code",
   "execution_count": null,
   "id": "407274bf-8f0a-4050-b98b-4bbd51221b96",
   "metadata": {},
   "outputs": [],
   "source": [
    "px.scatter(df, x='departure_date_with_jitter', y='price_unit', color='nonstop?', opacity=0.5)"
   ]
  },
  {
   "cell_type": "code",
   "execution_count": null,
   "id": "c09c244f-954d-4df6-a5c3-423a4e689026",
   "metadata": {},
   "outputs": [],
   "source": [
    "df"
   ]
  },
  {
   "cell_type": "code",
   "execution_count": null,
   "id": "3f9923d2-92a1-4a91-a7e3-6b90c0d7164c",
   "metadata": {},
   "outputs": [],
   "source": [
    "df_sub = df[df['departure_date_dt'] == datetime(2024, 8, 30)]\n",
    "\n",
    "\n",
    "fig = go.Figure()\n",
    "for _, row in df_sub.iterrows():\n",
    "    fig.add_trace(\n",
    "        go.Scatter(\n",
    "            x=[row['departure_dt'], row['landing_origin_dt']],\n",
    "            y=[row['price_unit'], row['price_unit']],\n",
    "        )\n",
    "    )\n",
    "\n",
    "fig.update_layout(\n",
    "    autosize=True,\n",
    "    height=750,\n",
    ")\n",
    "\n",
    "fig.show()"
   ]
  },
  {
   "cell_type": "markdown",
   "id": "e0ff86e4-a1fa-4b77-97f1-e405d4ce04e9",
   "metadata": {},
   "source": [
    "# TODOs\n",
    "\n",
    "- add datetime selector for second plot\n",
    "- add filter for direct flights\n",
    "- add filter for price\n",
    "- add selector for min and max connection time"
   ]
  }
 ],
 "metadata": {
  "kernelspec": {
   "display_name": "Python 3 (ipykernel)",
   "language": "python",
   "name": "python3"
  },
  "language_info": {
   "codemirror_mode": {
    "name": "ipython",
    "version": 3
   },
   "file_extension": ".py",
   "mimetype": "text/x-python",
   "name": "python",
   "nbconvert_exporter": "python",
   "pygments_lexer": "ipython3",
   "version": "3.12.2"
  }
 },
 "nbformat": 4,
 "nbformat_minor": 5
}

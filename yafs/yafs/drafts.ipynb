{
 "cells": [
  {
   "cell_type": "code",
   "execution_count": null,
   "id": "d3feb471-9fd1-44d8-9826-847cf6d89b98",
   "metadata": {},
   "outputs": [],
   "source": [
    "from urllib.parse import unquote\n",
    "import re\n",
    "\n",
    "\n",
    "from IPython.display import Image\n",
    "from playwright.async_api import async_playwright"
   ]
  },
  {
   "cell_type": "code",
   "execution_count": null,
   "id": "4a168787-1109-4990-95c8-4a5747574156",
   "metadata": {},
   "outputs": [],
   "source": [
    "# AIRPORT = (\"Vancouver\", \"YVR\")\n",
    "AIRPORT = (\"Orlando\", \"MCO\")\n",
    "DATES = (\"15 Aug\", \"21 Aug\")"
   ]
  },
  {
   "cell_type": "code",
   "execution_count": null,
   "id": "80fada11-d683-433a-a066-e6908254b1c6",
   "metadata": {},
   "outputs": [],
   "source": [
    "def extract_numeric_and_non_numeric(s):\n",
    "    # Find all non-numeric characters (prefix and suffix)\n",
    "    non_numeric = ''.join(re.findall(r'\\D+', s))\n",
    "    # Find all numeric characters\n",
    "    numeric = ''.join(re.findall(r'\\d+', s))    \n",
    "    return numeric, non_numeric"
   ]
  },
  {
   "cell_type": "code",
   "execution_count": null,
   "id": "bc079385-b9e6-4e1f-a3ba-81076e625279",
   "metadata": {},
   "outputs": [],
   "source": [
    "def insert_space_before_capital(s):\n",
    "    return re.sub(r'(?<!\\s)(?=[A-Z])', ' ', s)"
   ]
  },
  {
   "cell_type": "code",
   "execution_count": null,
   "id": "f91d5172-ade9-4b9d-a709-7e640732e374",
   "metadata": {},
   "outputs": [],
   "source": [
    "async def display_screenshot():\n",
    "    return Image(await page.screenshot(path=\"test-page.png\"))"
   ]
  },
  {
   "cell_type": "code",
   "execution_count": null,
   "id": "090c5f59-e1a2-49b6-9f32-7667bb1df095",
   "metadata": {},
   "outputs": [],
   "source": [
    "playwright = await async_playwright().start()"
   ]
  },
  {
   "cell_type": "code",
   "execution_count": null,
   "id": "a87ee392-fa68-46a7-b44d-c6f14936064f",
   "metadata": {},
   "outputs": [],
   "source": [
    "browser = await playwright.chromium.launch()\n",
    "page = await browser.new_page()"
   ]
  },
  {
   "cell_type": "code",
   "execution_count": null,
   "id": "99886c15-bd90-43cb-a73e-349d71e88ea3",
   "metadata": {},
   "outputs": [],
   "source": [
    "await page.goto(\"https://www.google.com/travel/flights/search\")\n",
    "await display_screenshot()"
   ]
  },
  {
   "cell_type": "code",
   "execution_count": null,
   "id": "7229cbce-e023-4366-bcbe-83bb9e12723c",
   "metadata": {},
   "outputs": [],
   "source": [
    "where_to = page.get_by_placeholder(\"Where to?\")\n",
    "await where_to.press_sequentially(AIRPORT[0])\n",
    "await page.wait_for_timeout(2000)\n",
    "await display_screenshot()"
   ]
  },
  {
   "cell_type": "code",
   "execution_count": null,
   "id": "43586db2-6ab3-42ee-8af8-86beb755b489",
   "metadata": {},
   "outputs": [],
   "source": [
    "airport = page.get_by_text(AIRPORT[1])\n",
    "await airport.click()\n",
    "await display_screenshot()"
   ]
  },
  {
   "cell_type": "code",
   "execution_count": null,
   "id": "0851c8f4-bb87-489a-be1f-d9e6864f0b24",
   "metadata": {},
   "outputs": [],
   "source": [
    "departure = page.get_by_placeholder(\"Departure\").nth(0)\n",
    "await page.wait_for_timeout(500)\n",
    "await departure.fill(DATES[0])\n",
    "await page.wait_for_timeout(100)\n",
    "await departure.press(\"Enter\")\n",
    "await page.wait_for_timeout(100)\n",
    "await display_screenshot()"
   ]
  },
  {
   "cell_type": "code",
   "execution_count": null,
   "id": "589444f4-8c33-48a3-88d4-7c211f2558fd",
   "metadata": {},
   "outputs": [],
   "source": [
    "departure = page.get_by_placeholder(\"Return\").nth(0)\n",
    "await page.wait_for_timeout(100)\n",
    "await departure.fill(DATES[1])\n",
    "await page.wait_for_timeout(100)\n",
    "await departure.press(\"Enter\")\n",
    "await page.wait_for_timeout(100)\n",
    "await display_screenshot()"
   ]
  },
  {
   "cell_type": "code",
   "execution_count": null,
   "id": "d8a25b12-fa9e-4e68-8aff-1bd160056115",
   "metadata": {},
   "outputs": [],
   "source": [
    "await page.wait_for_timeout(2000)\n",
    "await page.keyboard.press(\"Escape\")\n",
    "is_explore_button = await page.get_by_label(\"Explore\", exact=True).bounding_box()\n",
    "if is_explore_button is not None:\n",
    "    search = page.get_by_label(\"Explore\", exact=True)\n",
    "else:\n",
    "    search = page.get_by_label(\"Search\", exact=True)\n",
    "await page.wait_for_timeout(100)\n",
    "await search.click()\n",
    "await page.wait_for_timeout(2000)\n",
    "await display_screenshot()"
   ]
  },
  {
   "cell_type": "code",
   "execution_count": null,
   "id": "4f911d30-8ac1-453d-b91b-aa0e84408316",
   "metadata": {},
   "outputs": [],
   "source": [
    "filters = page.get_by_label(\"All filters\")\n",
    "await filters.click()\n",
    "await page.wait_for_timeout(1000)\n",
    "\n",
    "hide_separate = page.get_by_text(\"Hide separate tickets\")\n",
    "await hide_separate.scroll_into_view_if_needed()\n",
    "await hide_separate.click()\n",
    "await page.wait_for_timeout(1000)\n",
    "await page.keyboard.press(\"Escape\")\n",
    "\n",
    "await display_screenshot()"
   ]
  },
  {
   "cell_type": "code",
   "execution_count": null,
   "id": "57123b45-803b-42a0-a16e-9be28e9e626e",
   "metadata": {},
   "outputs": [],
   "source": [
    "data = []\n",
    "for row in await page.get_by_role(\"listitem\").all():\n",
    "    texts = (await row.all_inner_texts())[0].split('\\n')\n",
    "    if \"more flights\" in texts[0]:\n",
    "        continue\n",
    "    nonstop = False\n",
    "    if \"nonstop\" in texts[6].lower():\n",
    "        nonstop = True\n",
    "\n",
    "    price_str = texts[-2] if texts[-2] != \"round trip\" else texts[-3]\n",
    "    price_components = extract_numeric_and_non_numeric(price_str)\n",
    "\n",
    "    parsed_texts = {\n",
    "        \"departure\": \" \".join(texts[0].split()),\n",
    "        \"landing\": \" \".join(texts[2].split()),\n",
    "        \"airline\": insert_space_before_capital(texts[3]),\n",
    "        \"duration\": texts[4],\n",
    "        \"nonstop?\": nonstop,\n",
    "        \"price_currency\": price_components[1],\n",
    "        \"price_unit\": price_components[0],\n",
    "    }\n",
    "    if not nonstop:\n",
    "        parsed_texts['stops'] = texts[7]\n",
    "    data.append(parsed_texts)\n",
    "    print((await row.all_inner_texts())[0])\n",
    "    print(\"-----------\")\n",
    "\n",
    "print(data)"
   ]
  },
  {
   "cell_type": "code",
   "execution_count": null,
   "id": "9266fd29-af74-4d88-8f50-8bb7e9ca438b",
   "metadata": {},
   "outputs": [],
   "source": [
    "data"
   ]
  },
  {
   "cell_type": "code",
   "execution_count": null,
   "id": "257a9dad-9dcf-46d0-9ab5-6aafe0d290f4",
   "metadata": {},
   "outputs": [],
   "source": [
    "print(data)"
   ]
  },
  {
   "cell_type": "code",
   "execution_count": null,
   "id": "bdb8386d-0e6d-4f2f-ba42-4a19dc66685b",
   "metadata": {},
   "outputs": [],
   "source": [
    "await page.keyboard.press(\"Escape\")"
   ]
  },
  {
   "cell_type": "code",
   "execution_count": null,
   "id": "c6e544c7-094b-4bbe-8818-d12234821ffe",
   "metadata": {},
   "outputs": [],
   "source": [
    "await display_screenshot()"
   ]
  }
 ],
 "metadata": {
  "kernelspec": {
   "display_name": "Python 3 (ipykernel)",
   "language": "python",
   "name": "python3"
  },
  "language_info": {
   "codemirror_mode": {
    "name": "ipython",
    "version": 3
   },
   "file_extension": ".py",
   "mimetype": "text/x-python",
   "name": "python",
   "nbconvert_exporter": "python",
   "pygments_lexer": "ipython3",
   "version": "3.12.2"
  }
 },
 "nbformat": 4,
 "nbformat_minor": 5
}
